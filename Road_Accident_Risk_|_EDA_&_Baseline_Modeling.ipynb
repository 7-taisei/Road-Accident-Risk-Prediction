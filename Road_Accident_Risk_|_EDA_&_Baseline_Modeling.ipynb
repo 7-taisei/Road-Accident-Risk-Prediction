{
  "metadata": {
    "kernelspec": {
      "name": "python3",
      "display_name": "Python 3",
      "language": "python"
    },
    "language_info": {
      "name": "python",
      "version": "3.11.13",
      "mimetype": "text/x-python",
      "codemirror_mode": {
        "name": "ipython",
        "version": 3
      },
      "pygments_lexer": "ipython3",
      "nbconvert_exporter": "python",
      "file_extension": ".py"
    },
    "colab": {
      "provenance": [],
      "include_colab_link": true
    },
    "kaggle": {
      "accelerator": "none",
      "dataSources": [
        {
          "sourceId": 91721,
          "databundleVersionId": 13760552,
          "sourceType": "competition"
        }
      ],
      "isInternetEnabled": true,
      "language": "python",
      "sourceType": "notebook",
      "isGpuEnabled": false
    }
  },
  "nbformat_minor": 0,
  "nbformat": 4,
  "cells": [
    {
      "cell_type": "markdown",
      "metadata": {
        "id": "view-in-github",
        "colab_type": "text"
      },
      "source": [
        "<a href=\"https://colab.research.google.com/github/7-taisei/Road-Accident-Risk-Prediction/blob/main/Road_Accident_Risk_%7C_EDA_%26_Baseline_Modeling.ipynb\" target=\"_parent\"><img src=\"https://colab.research.google.com/assets/colab-badge.svg\" alt=\"Open In Colab\"/></a>"
      ]
    },
    {
      "cell_type": "markdown",
      "source": [
        "<div style=\"background-color: #004a99; padding: 25px; border-radius: 10px; text-align: center; margin-bottom: 25px;\">\n",
        "    <h1 style=\"color: #ffffff; margin: 0; font-size: 2.5em; font-weight: bold;\">\n",
        "         Road Accident Risk\n",
        "    </h1>\n",
        "    <p style=\"color: #e0f2f7; font-size: 1.4em; margin-top: 10px;\">\n",
        "        EDA & Baseline Modeling\n",
        "    </p>\n",
        "</div>\n",
        "\n",
        "<div style=\"border: 2px solid #aed6f1; border-radius: 8px; padding: 25px; background-color: #f8f9fa; margin-bottom: 25px;\">\n",
        "\n",
        "<h2 style=\"color: #2980b9; border-bottom: 3px solid #aed6f1; padding-bottom: 5px; font-size: 1.8em;\">\n",
        "         1.1. Objective\n",
        "    </h2>\n",
        "    <p style=\"font-size: 1.1em; color: #34495e; line-height: 1.6;\">\n",
        "        The primary goal of this notebook is to analyze the factors contributing to road accident severity and to build baseline models to predict the <b>accident risk</b> (our target variable). By understanding the key features, we aim to provide insights that could potentially help in risk mitigation.\n",
        "    </p>\n",
        "\n",
        "<h2 style=\"color: #2980b9; border-bottom: 3px solid #aed6f1; padding-bottom: 5px; font-size: 1.8em; margin-top: 20px;\">\n",
        "         1.2. Dataset\n",
        "    </h2>\n",
        "    <p style=\"font-size: 1.1em; color: #34495e; line-height: 1.6;\">\n",
        "        The dataset provides a comprehensive record of road accidents, including various features such as weather conditions, Curvature, time of day, and Number of the reported accidents.\n",
        "    </p>\n",
        "\n",
        "<h2 style=\"color: #2980b9; border-bottom: 3px solid #aed6f1; padding-bottom: 5px; font-size: 1.8em; margin-top: 20px;\">\n",
        "         1.3. Our Approach\n",
        "    </h2>\n",
        "    <p style=\"font-size: 1.1em; color: #34495e; line-height: 1.6;\">\n",
        "        Our analysis will follow a structured path:\n",
        "    </p>\n",
        "    <ul style=\"font-size: 1.1em; color: #34495e; line-height: 1.7; margin-top: 10px;\">\n",
        "        <li><b>Data Loading:</b> Handle missing or duplicating values.</li>\n",
        "        <li><b>Exploratory Data Analysis (EDA):</b> Visualize key relationships and insights.</li>\n",
        "        <li><b>Feature Engineering:</b>Creating new features.</li>\n",
        "        <li><b>Baseline Modeling:</b> Train LightGBM, XGBoost, and CatBoost models.</li>\n",
        "        <li><b>Feature Importance:</b> Identify the most predictive factors using Permutation Importance.</li>\n",
        "    </ul>\n",
        "</div>"
      ],
      "metadata": {
        "id": "zJmdIN4zt-up"
      }
    },
    {
      "cell_type": "markdown",
      "source": [
        "# Table of Contents\n",
        "\n",
        "- Importing Libraries\n",
        "- Load Data\n",
        "- EDA\n",
        "- Cross-Validation\n",
        "- Preprocessing, Feature Engineering, Model Training\n",
        "- Stacking\n",
        "- Importance Measurement"
      ],
      "metadata": {
        "id": "4lndC9MGt-ur"
      }
    },
    {
      "cell_type": "markdown",
      "source": [
        "---"
      ],
      "metadata": {
        "id": "6QXSdA6Tt-us"
      }
    },
    {
      "cell_type": "markdown",
      "source": [
        "# <font color=\"blue\">1. Importing Libraries</font>"
      ],
      "metadata": {
        "id": "Aw17ax_wvNf4"
      }
    },
    {
      "cell_type": "code",
      "source": [
        "%%capture\n",
        "!pip install --upgrade scikit-learn"
      ],
      "metadata": {
        "id": "UxNFmwwxqCtl",
        "trusted": true,
        "execution": {
          "iopub.status.busy": "2025-10-17T23:30:57.529532Z",
          "iopub.execute_input": "2025-10-17T23:30:57.529965Z",
          "iopub.status.idle": "2025-10-17T23:31:08.532913Z",
          "shell.execute_reply.started": "2025-10-17T23:30:57.529936Z",
          "shell.execute_reply": "2025-10-17T23:31:08.531531Z"
        }
      },
      "outputs": [],
      "execution_count": 1
    },
    {
      "cell_type": "code",
      "source": [
        "%%capture\n",
        "!pip install catboost"
      ],
      "metadata": {
        "id": "fR07KVKAqS_-",
        "trusted": true,
        "execution": {
          "iopub.status.busy": "2025-10-17T23:31:08.534987Z",
          "iopub.execute_input": "2025-10-17T23:31:08.535323Z",
          "iopub.status.idle": "2025-10-17T23:31:12.907112Z",
          "shell.execute_reply.started": "2025-10-17T23:31:08.535294Z",
          "shell.execute_reply": "2025-10-17T23:31:12.905737Z"
        }
      },
      "outputs": [],
      "execution_count": 2
    },
    {
      "cell_type": "code",
      "source": [
        "import numpy as np\n",
        "import pandas as pd\n",
        "import matplotlib.pyplot as plt\n",
        "import seaborn as sns\n",
        "#Suppress warnings displayed when using deprecated functions in Python libraries\n",
        "import warnings\n",
        "warnings.filterwarnings('ignore')\n",
        "#Make terminal output visually appealing and easy to use\n",
        "from rich.console import Console\n",
        "from rich.table import Table\n",
        "#Style settings for changing the appearance of graphs in Python's Matplotlib library\n",
        "plt.style.use(\"ggplot\")\n",
        "\n",
        "sns.set(font_scale=1.1)\n",
        "\n",
        "from sklearn.model_selection import KFold\n",
        "from sklearn.metrics import mean_squared_error, r2_score\n",
        "from sklearn.preprocessing import StandardScaler, OneHotEncoder, FunctionTransformer\n",
        "from sklearn.compose import ColumnTransformer, make_column_selector\n",
        "from sklearn.pipeline import Pipeline\n",
        "import lightgbm as lgb\n",
        "from sklearn.impute import SimpleImputer\n",
        "\n",
        "import xgboost as xgb\n",
        "import catboost as cb\n",
        "\n",
        "from sklearn.linear_model import LinearRegression\n",
        "\n",
        "from sklearn.inspection import permutation_importance\n",
        "from sklearn.model_selection import train_test_split"
      ],
      "metadata": {
        "id": "x1j4H8gipR62",
        "trusted": true,
        "execution": {
          "iopub.status.busy": "2025-10-17T23:31:12.908443Z",
          "iopub.execute_input": "2025-10-17T23:31:12.908746Z",
          "iopub.status.idle": "2025-10-17T23:31:21.3409Z",
          "shell.execute_reply.started": "2025-10-17T23:31:12.908715Z",
          "shell.execute_reply": "2025-10-17T23:31:21.339631Z"
        }
      },
      "outputs": [],
      "execution_count": 3
    },
    {
      "cell_type": "markdown",
      "source": [
        "# <font color=\"blue\">2.Load Data</font>"
      ],
      "metadata": {
        "id": "h-ByabxqviN1"
      }
    },
    {
      "cell_type": "code",
      "source": [
        "train = pd.read_csv('/kaggle/input/playground-series-s5e10/train.csv',index_col='id')\n",
        "test = pd.read_csv('/kaggle/input/playground-series-s5e10/test.csv',index_col='id')"
      ],
      "metadata": {
        "id": "R-wzabievMhM",
        "trusted": true,
        "execution": {
          "iopub.status.busy": "2025-10-17T23:31:21.343502Z",
          "iopub.execute_input": "2025-10-17T23:31:21.344119Z",
          "iopub.status.idle": "2025-10-17T23:31:22.897982Z",
          "shell.execute_reply.started": "2025-10-17T23:31:21.344092Z",
          "shell.execute_reply": "2025-10-17T23:31:22.896633Z"
        },
        "colab": {
          "base_uri": "https://localhost:8080/",
          "height": 315
        },
        "outputId": "4e230cee-8083-47cb-be45-a5992f620f78"
      },
      "outputs": [
        {
          "output_type": "error",
          "ename": "FileNotFoundError",
          "evalue": "[Errno 2] No such file or directory: '/kaggle/input/playground-series-s5e10/train.csv'",
          "traceback": [
            "\u001b[0;31m---------------------------------------------------------------------------\u001b[0m",
            "\u001b[0;31mFileNotFoundError\u001b[0m                         Traceback (most recent call last)",
            "\u001b[0;32m/tmp/ipython-input-1602029345.py\u001b[0m in \u001b[0;36m<cell line: 0>\u001b[0;34m()\u001b[0m\n\u001b[0;32m----> 1\u001b[0;31m \u001b[0mtrain\u001b[0m \u001b[0;34m=\u001b[0m \u001b[0mpd\u001b[0m\u001b[0;34m.\u001b[0m\u001b[0mread_csv\u001b[0m\u001b[0;34m(\u001b[0m\u001b[0;34m'/kaggle/input/playground-series-s5e10/train.csv'\u001b[0m\u001b[0;34m,\u001b[0m\u001b[0mindex_col\u001b[0m\u001b[0;34m=\u001b[0m\u001b[0;34m'id'\u001b[0m\u001b[0;34m)\u001b[0m\u001b[0;34m\u001b[0m\u001b[0;34m\u001b[0m\u001b[0m\n\u001b[0m\u001b[1;32m      2\u001b[0m \u001b[0mtest\u001b[0m \u001b[0;34m=\u001b[0m \u001b[0mpd\u001b[0m\u001b[0;34m.\u001b[0m\u001b[0mread_csv\u001b[0m\u001b[0;34m(\u001b[0m\u001b[0;34m'/kaggle/input/playground-series-s5e10/test.csv'\u001b[0m\u001b[0;34m,\u001b[0m\u001b[0mindex_col\u001b[0m\u001b[0;34m=\u001b[0m\u001b[0;34m'id'\u001b[0m\u001b[0;34m)\u001b[0m\u001b[0;34m\u001b[0m\u001b[0;34m\u001b[0m\u001b[0m\n",
            "\u001b[0;32m/usr/local/lib/python3.12/dist-packages/pandas/io/parsers/readers.py\u001b[0m in \u001b[0;36mread_csv\u001b[0;34m(filepath_or_buffer, sep, delimiter, header, names, index_col, usecols, dtype, engine, converters, true_values, false_values, skipinitialspace, skiprows, skipfooter, nrows, na_values, keep_default_na, na_filter, verbose, skip_blank_lines, parse_dates, infer_datetime_format, keep_date_col, date_parser, date_format, dayfirst, cache_dates, iterator, chunksize, compression, thousands, decimal, lineterminator, quotechar, quoting, doublequote, escapechar, comment, encoding, encoding_errors, dialect, on_bad_lines, delim_whitespace, low_memory, memory_map, float_precision, storage_options, dtype_backend)\u001b[0m\n\u001b[1;32m   1024\u001b[0m     \u001b[0mkwds\u001b[0m\u001b[0;34m.\u001b[0m\u001b[0mupdate\u001b[0m\u001b[0;34m(\u001b[0m\u001b[0mkwds_defaults\u001b[0m\u001b[0;34m)\u001b[0m\u001b[0;34m\u001b[0m\u001b[0;34m\u001b[0m\u001b[0m\n\u001b[1;32m   1025\u001b[0m \u001b[0;34m\u001b[0m\u001b[0m\n\u001b[0;32m-> 1026\u001b[0;31m     \u001b[0;32mreturn\u001b[0m \u001b[0m_read\u001b[0m\u001b[0;34m(\u001b[0m\u001b[0mfilepath_or_buffer\u001b[0m\u001b[0;34m,\u001b[0m \u001b[0mkwds\u001b[0m\u001b[0;34m)\u001b[0m\u001b[0;34m\u001b[0m\u001b[0;34m\u001b[0m\u001b[0m\n\u001b[0m\u001b[1;32m   1027\u001b[0m \u001b[0;34m\u001b[0m\u001b[0m\n\u001b[1;32m   1028\u001b[0m \u001b[0;34m\u001b[0m\u001b[0m\n",
            "\u001b[0;32m/usr/local/lib/python3.12/dist-packages/pandas/io/parsers/readers.py\u001b[0m in \u001b[0;36m_read\u001b[0;34m(filepath_or_buffer, kwds)\u001b[0m\n\u001b[1;32m    618\u001b[0m \u001b[0;34m\u001b[0m\u001b[0m\n\u001b[1;32m    619\u001b[0m     \u001b[0;31m# Create the parser.\u001b[0m\u001b[0;34m\u001b[0m\u001b[0;34m\u001b[0m\u001b[0m\n\u001b[0;32m--> 620\u001b[0;31m     \u001b[0mparser\u001b[0m \u001b[0;34m=\u001b[0m \u001b[0mTextFileReader\u001b[0m\u001b[0;34m(\u001b[0m\u001b[0mfilepath_or_buffer\u001b[0m\u001b[0;34m,\u001b[0m \u001b[0;34m**\u001b[0m\u001b[0mkwds\u001b[0m\u001b[0;34m)\u001b[0m\u001b[0;34m\u001b[0m\u001b[0;34m\u001b[0m\u001b[0m\n\u001b[0m\u001b[1;32m    621\u001b[0m \u001b[0;34m\u001b[0m\u001b[0m\n\u001b[1;32m    622\u001b[0m     \u001b[0;32mif\u001b[0m \u001b[0mchunksize\u001b[0m \u001b[0;32mor\u001b[0m \u001b[0miterator\u001b[0m\u001b[0;34m:\u001b[0m\u001b[0;34m\u001b[0m\u001b[0;34m\u001b[0m\u001b[0m\n",
            "\u001b[0;32m/usr/local/lib/python3.12/dist-packages/pandas/io/parsers/readers.py\u001b[0m in \u001b[0;36m__init__\u001b[0;34m(self, f, engine, **kwds)\u001b[0m\n\u001b[1;32m   1618\u001b[0m \u001b[0;34m\u001b[0m\u001b[0m\n\u001b[1;32m   1619\u001b[0m         \u001b[0mself\u001b[0m\u001b[0;34m.\u001b[0m\u001b[0mhandles\u001b[0m\u001b[0;34m:\u001b[0m \u001b[0mIOHandles\u001b[0m \u001b[0;34m|\u001b[0m \u001b[0;32mNone\u001b[0m \u001b[0;34m=\u001b[0m \u001b[0;32mNone\u001b[0m\u001b[0;34m\u001b[0m\u001b[0;34m\u001b[0m\u001b[0m\n\u001b[0;32m-> 1620\u001b[0;31m         \u001b[0mself\u001b[0m\u001b[0;34m.\u001b[0m\u001b[0m_engine\u001b[0m \u001b[0;34m=\u001b[0m \u001b[0mself\u001b[0m\u001b[0;34m.\u001b[0m\u001b[0m_make_engine\u001b[0m\u001b[0;34m(\u001b[0m\u001b[0mf\u001b[0m\u001b[0;34m,\u001b[0m \u001b[0mself\u001b[0m\u001b[0;34m.\u001b[0m\u001b[0mengine\u001b[0m\u001b[0;34m)\u001b[0m\u001b[0;34m\u001b[0m\u001b[0;34m\u001b[0m\u001b[0m\n\u001b[0m\u001b[1;32m   1621\u001b[0m \u001b[0;34m\u001b[0m\u001b[0m\n\u001b[1;32m   1622\u001b[0m     \u001b[0;32mdef\u001b[0m \u001b[0mclose\u001b[0m\u001b[0;34m(\u001b[0m\u001b[0mself\u001b[0m\u001b[0;34m)\u001b[0m \u001b[0;34m->\u001b[0m \u001b[0;32mNone\u001b[0m\u001b[0;34m:\u001b[0m\u001b[0;34m\u001b[0m\u001b[0;34m\u001b[0m\u001b[0m\n",
            "\u001b[0;32m/usr/local/lib/python3.12/dist-packages/pandas/io/parsers/readers.py\u001b[0m in \u001b[0;36m_make_engine\u001b[0;34m(self, f, engine)\u001b[0m\n\u001b[1;32m   1878\u001b[0m                 \u001b[0;32mif\u001b[0m \u001b[0;34m\"b\"\u001b[0m \u001b[0;32mnot\u001b[0m \u001b[0;32min\u001b[0m \u001b[0mmode\u001b[0m\u001b[0;34m:\u001b[0m\u001b[0;34m\u001b[0m\u001b[0;34m\u001b[0m\u001b[0m\n\u001b[1;32m   1879\u001b[0m                     \u001b[0mmode\u001b[0m \u001b[0;34m+=\u001b[0m \u001b[0;34m\"b\"\u001b[0m\u001b[0;34m\u001b[0m\u001b[0;34m\u001b[0m\u001b[0m\n\u001b[0;32m-> 1880\u001b[0;31m             self.handles = get_handle(\n\u001b[0m\u001b[1;32m   1881\u001b[0m                 \u001b[0mf\u001b[0m\u001b[0;34m,\u001b[0m\u001b[0;34m\u001b[0m\u001b[0;34m\u001b[0m\u001b[0m\n\u001b[1;32m   1882\u001b[0m                 \u001b[0mmode\u001b[0m\u001b[0;34m,\u001b[0m\u001b[0;34m\u001b[0m\u001b[0;34m\u001b[0m\u001b[0m\n",
            "\u001b[0;32m/usr/local/lib/python3.12/dist-packages/pandas/io/common.py\u001b[0m in \u001b[0;36mget_handle\u001b[0;34m(path_or_buf, mode, encoding, compression, memory_map, is_text, errors, storage_options)\u001b[0m\n\u001b[1;32m    871\u001b[0m         \u001b[0;32mif\u001b[0m \u001b[0mioargs\u001b[0m\u001b[0;34m.\u001b[0m\u001b[0mencoding\u001b[0m \u001b[0;32mand\u001b[0m \u001b[0;34m\"b\"\u001b[0m \u001b[0;32mnot\u001b[0m \u001b[0;32min\u001b[0m \u001b[0mioargs\u001b[0m\u001b[0;34m.\u001b[0m\u001b[0mmode\u001b[0m\u001b[0;34m:\u001b[0m\u001b[0;34m\u001b[0m\u001b[0;34m\u001b[0m\u001b[0m\n\u001b[1;32m    872\u001b[0m             \u001b[0;31m# Encoding\u001b[0m\u001b[0;34m\u001b[0m\u001b[0;34m\u001b[0m\u001b[0m\n\u001b[0;32m--> 873\u001b[0;31m             handle = open(\n\u001b[0m\u001b[1;32m    874\u001b[0m                 \u001b[0mhandle\u001b[0m\u001b[0;34m,\u001b[0m\u001b[0;34m\u001b[0m\u001b[0;34m\u001b[0m\u001b[0m\n\u001b[1;32m    875\u001b[0m                 \u001b[0mioargs\u001b[0m\u001b[0;34m.\u001b[0m\u001b[0mmode\u001b[0m\u001b[0;34m,\u001b[0m\u001b[0;34m\u001b[0m\u001b[0;34m\u001b[0m\u001b[0m\n",
            "\u001b[0;31mFileNotFoundError\u001b[0m: [Errno 2] No such file or directory: '/kaggle/input/playground-series-s5e10/train.csv'"
          ]
        }
      ],
      "execution_count": 4
    },
    {
      "cell_type": "code",
      "source": [
        "train.head()"
      ],
      "metadata": {
        "id": "Mthx1RNjwvJY",
        "trusted": true,
        "execution": {
          "iopub.status.busy": "2025-10-17T23:31:22.898908Z",
          "iopub.execute_input": "2025-10-17T23:31:22.899186Z",
          "iopub.status.idle": "2025-10-17T23:31:22.928081Z",
          "shell.execute_reply.started": "2025-10-17T23:31:22.899164Z",
          "shell.execute_reply": "2025-10-17T23:31:22.927024Z"
        }
      },
      "outputs": [],
      "execution_count": null
    },
    {
      "cell_type": "markdown",
      "source": [
        "## <font color=\"green\"> Output the characteristics of the dataset in tabular format</font>\n"
      ],
      "metadata": {
        "id": "ukp6PZvD1ejl"
      }
    },
    {
      "cell_type": "code",
      "source": [
        "#In addition to summary statistics for numerical data in Pandas DataFrames, calculate and clearly display skewness and kurtosis.\n",
        "def custom_describe(df,categorical=False):\n",
        "  if not categorical:\n",
        "    df=df.select_dtypes(include=np.number)\n",
        "    des=df.describe().T.round(2)\n",
        "    des['count']=des['count'].astype(int)\n",
        "    des['skewness']=df.skew().round(2)\n",
        "    des['kurtosis']=df.kurtosis().round(2)\n",
        "  return des"
      ],
      "metadata": {
        "id": "jGmRozwNw5fy",
        "trusted": true,
        "execution": {
          "iopub.status.busy": "2025-10-17T23:31:22.929345Z",
          "iopub.execute_input": "2025-10-17T23:31:22.929648Z",
          "iopub.status.idle": "2025-10-17T23:31:22.936048Z",
          "shell.execute_reply.started": "2025-10-17T23:31:22.929616Z",
          "shell.execute_reply": "2025-10-17T23:31:22.934976Z"
        }
      },
      "outputs": [],
      "execution_count": null
    },
    {
      "cell_type": "code",
      "source": [
        "def df_summary(df, label=\"Train\"):\n",
        "    console = Console()\n",
        "    console.rule(f\"[bold blue]{label} DataFrame Description[/bold blue]\")\n",
        "    console.print(f\"[bold]Shape:[/bold] {df.shape}\\n\")\n",
        "\n",
        "    # Numeric summary\n",
        "    numeric_cols = df.select_dtypes(include=np.number).columns\n",
        "    if len(numeric_cols) > 0:\n",
        "        console.print(\"[bold blue]Numerical Columns:[/bold blue]\")\n",
        "        num_stats = custom_describe(df[numeric_cols], categorical=False)\n",
        "        table = Table(show_header=True, header_style=\"bold magenta\")\n",
        "        table.add_column(\"Column\")\n",
        "        for col in num_stats.columns:\n",
        "            table.add_column(col)\n",
        "        for idx, row in num_stats.iterrows():\n",
        "            table.add_row(idx, *[f\"{val:.2f}\" if isinstance(val, (float, np.float64)) else str(val) for val in row])\n",
        "        console.print(table)\n",
        "        console.print(\"\\n\")\n",
        "\n",
        "    # Categorical summary\n",
        "    cat_cols = df.select_dtypes(include=['object', 'category']).columns\n",
        "    if len(cat_cols) > 0:\n",
        "        console.print(\"[bold blue]Categorical Columns:[/bold blue]\")\n",
        "        cat_stats = df[cat_cols].describe().T\n",
        "        table = Table(show_header=True, header_style=\"bold magenta\")\n",
        "        table.add_column(\"Column\")\n",
        "        for col in cat_stats.columns:\n",
        "            table.add_column(col)\n",
        "        for idx, row in cat_stats.iterrows():\n",
        "            table.add_row(idx, *[str(val) for val in row])\n",
        "        console.print(table)\n",
        "        console.print(\"\\n\")\n",
        "\n",
        "df_summary(train)\n",
        "df_summary(test, \"Test\")"
      ],
      "metadata": {
        "id": "Z1N-u39Izd36",
        "trusted": true,
        "execution": {
          "iopub.status.busy": "2025-10-17T23:31:22.936822Z",
          "iopub.execute_input": "2025-10-17T23:31:22.937069Z",
          "iopub.status.idle": "2025-10-17T23:31:23.719263Z",
          "shell.execute_reply.started": "2025-10-17T23:31:22.937051Z",
          "shell.execute_reply": "2025-10-17T23:31:23.718132Z"
        }
      },
      "outputs": [],
      "execution_count": null
    },
    {
      "cell_type": "markdown",
      "source": [
        "<h3 style=\"color:red;font-weight:bold;\"> Q.What's the point of creating such a table? It'll just make EDA easier to understand later.</h3>\n"
      ],
      "metadata": {
        "id": "BIbrZa0y4GJB"
      }
    },
    {
      "cell_type": "markdown",
      "source": [
        "<h3 style=\"color:blue;font-weight:bold;\">\n",
        "A.\n",
        "\n",
        "1. Quickly identify data issues\n",
        "2. Establish data conversion policies\n",
        "3. Enhance your understanding with a combination of graphs and figures\n",
        "\n",
        "I believe the purpose of creating tables of basic statistics is to establish guidelines for subsequent EDA.</h3>"
      ],
      "metadata": {
        "id": "BI_zj-9Aa1kk"
      }
    },
    {
      "cell_type": "markdown",
      "source": [
        "<h4 style=\"color:orange;font-weight:bold;\">Also, visually verify that there are no discrepancies between the training data and test data before performing EDA.</h4>"
      ],
      "metadata": {
        "id": "2PXTcmf-b4pm"
      }
    },
    {
      "cell_type": "code",
      "source": [
        "plt.figure(figsize=(20,15))\n",
        "for i,column in enumerate(train.columns):\n",
        "  if column in test.columns:\n",
        "       if pd.api.types.is_numeric_dtype(train[column]):\n",
        "        plt.subplot(3,5,i+1)\n",
        "        sns.kdeplot(train[column], label='train', fill=True)\n",
        "        sns.kdeplot(test[column], label='test', fill=True)\n",
        "        plt.title(f'Distribution Comparison for \"{column}\"')\n",
        "        plt.legend()\n",
        "plt.tight_layout()\n",
        "plt.show()"
      ],
      "metadata": {
        "id": "3fQNllTOb4AK",
        "trusted": true,
        "execution": {
          "iopub.status.busy": "2025-10-17T23:31:23.720479Z",
          "iopub.execute_input": "2025-10-17T23:31:23.720995Z",
          "iopub.status.idle": "2025-10-17T23:31:46.947311Z",
          "shell.execute_reply.started": "2025-10-17T23:31:23.720961Z",
          "shell.execute_reply": "2025-10-17T23:31:46.946281Z"
        }
      },
      "outputs": [],
      "execution_count": null
    },
    {
      "cell_type": "markdown",
      "source": [
        "<h4 style=\"color:orange;font-weight:bold;\">These graphs and tables suggest that there is no significant difference in the overall characteristics of the train and test data.</h4>"
      ],
      "metadata": {
        "id": "ejwXbjIgdqKA"
      }
    },
    {
      "cell_type": "code",
      "source": [
        "target=\"accident_risk\"\n",
        "\n",
        "features=test.columns.to_list()\n",
        "numerical_features=train[features].select_dtypes(include=np.number).columns.to_list()\n",
        "categorical_features=train[features].select_dtypes(exclude=np.number).columns.to_list()"
      ],
      "metadata": {
        "id": "RkM6Fq48ef2_",
        "trusted": true,
        "execution": {
          "iopub.status.busy": "2025-10-17T23:31:46.948603Z",
          "iopub.execute_input": "2025-10-17T23:31:46.948947Z",
          "iopub.status.idle": "2025-10-17T23:31:47.022925Z",
          "shell.execute_reply.started": "2025-10-17T23:31:46.948919Z",
          "shell.execute_reply": "2025-10-17T23:31:47.02188Z"
        }
      },
      "outputs": [],
      "execution_count": null
    },
    {
      "cell_type": "code",
      "source": [
        "features"
      ],
      "metadata": {
        "id": "3yThpjzRfKbZ",
        "trusted": true,
        "execution": {
          "iopub.status.busy": "2025-10-17T23:31:47.026048Z",
          "iopub.execute_input": "2025-10-17T23:31:47.026335Z",
          "iopub.status.idle": "2025-10-17T23:31:47.032526Z",
          "shell.execute_reply.started": "2025-10-17T23:31:47.026317Z",
          "shell.execute_reply": "2025-10-17T23:31:47.031691Z"
        }
      },
      "outputs": [],
      "execution_count": null
    },
    {
      "cell_type": "code",
      "source": [
        "numerical_features"
      ],
      "metadata": {
        "id": "jW1vUcwGfM5q",
        "trusted": true,
        "execution": {
          "iopub.status.busy": "2025-10-17T23:31:47.033424Z",
          "iopub.execute_input": "2025-10-17T23:31:47.033672Z",
          "iopub.status.idle": "2025-10-17T23:31:47.040361Z",
          "shell.execute_reply.started": "2025-10-17T23:31:47.033652Z",
          "shell.execute_reply": "2025-10-17T23:31:47.039333Z"
        }
      },
      "outputs": [],
      "execution_count": null
    },
    {
      "cell_type": "code",
      "source": [
        "categorical_features"
      ],
      "metadata": {
        "id": "2fAKQ99mfOiZ",
        "trusted": true,
        "execution": {
          "iopub.status.busy": "2025-10-17T23:31:47.041418Z",
          "iopub.execute_input": "2025-10-17T23:31:47.041779Z",
          "iopub.status.idle": "2025-10-17T23:31:47.048425Z",
          "shell.execute_reply.started": "2025-10-17T23:31:47.041737Z",
          "shell.execute_reply": "2025-10-17T23:31:47.04728Z"
        }
      },
      "outputs": [],
      "execution_count": null
    },
    {
      "cell_type": "markdown",
      "source": [
        "## <font color=\"green\"> 1. Check for missing values,duplicating</font>"
      ],
      "metadata": {
        "id": "lmK7ihcweYkw"
      }
    },
    {
      "cell_type": "code",
      "source": [
        "train.isnull().sum()"
      ],
      "metadata": {
        "id": "_b7MtEly3qxz",
        "trusted": true,
        "execution": {
          "iopub.status.busy": "2025-10-17T23:31:47.050092Z",
          "iopub.execute_input": "2025-10-17T23:31:47.0504Z",
          "iopub.status.idle": "2025-10-17T23:31:47.166427Z",
          "shell.execute_reply.started": "2025-10-17T23:31:47.050377Z",
          "shell.execute_reply": "2025-10-17T23:31:47.165502Z"
        }
      },
      "outputs": [],
      "execution_count": null
    },
    {
      "cell_type": "code",
      "source": [
        "#Removing duplicate rows is done to prevent bias and maintain reliability.\n",
        "num_duplicates=train.duplicated().sum()\n",
        "print(f\"Number of duplicate rows in train: {num_duplicates}\")\n",
        "if num_duplicates > 0:\n",
        "    train=train.drop_duplicates()"
      ],
      "metadata": {
        "id": "m2ahb-Q4fm4J",
        "trusted": true,
        "execution": {
          "iopub.status.busy": "2025-10-17T23:31:47.167365Z",
          "iopub.execute_input": "2025-10-17T23:31:47.167628Z",
          "iopub.status.idle": "2025-10-17T23:31:47.65816Z",
          "shell.execute_reply.started": "2025-10-17T23:31:47.167606Z",
          "shell.execute_reply": "2025-10-17T23:31:47.657095Z"
        }
      },
      "outputs": [],
      "execution_count": null
    },
    {
      "cell_type": "markdown",
      "source": [
        "# <font color=\"blue\">3. Exploratory Data Analysis (EDA)</font>"
      ],
      "metadata": {
        "id": "rQpiEenQblp7"
      }
    },
    {
      "cell_type": "markdown",
      "source": [
        "## Acknowledgements\n",
        "### EDA (Inspired by @Dibya S. Barik)\n",
        "\n",
        "The following Exploratory Data Analysis (EDA) was heavily inspired by the work of @Dibya S. Barik in their notebook, \"[0.05567] Road Accident Risk Prediction|Baseline\". I highly recommend checking it out."
      ],
      "metadata": {
        "id": "y0vERZkht-uy"
      }
    },
    {
      "cell_type": "markdown",
      "source": [
        "## <font color=\"green\"> 1. Univariate Analysis</font>"
      ],
      "metadata": {
        "id": "99YHB8QxgdTZ"
      }
    },
    {
      "cell_type": "markdown",
      "source": [
        "### <font color=\"blue\"> 1. Numerical_feature</font>"
      ],
      "metadata": {
        "id": "8vWLLP-qpK_3"
      }
    },
    {
      "cell_type": "code",
      "source": [
        "fig, axes=plt.subplots(2,2,figsize=(14,8))\n",
        "#Converting a two-dimensional array into a one-dimensional array makes it easier to handle with a for loop.\n",
        "axes=axes.flatten()\n",
        "\n",
        "for i,feature in enumerate(numerical_features):\n",
        "  if pd.api.types.is_integer_dtype(train[feature]):\n",
        "    #Display a kernel density estimation (KDE) curve overlaid on the histogram to smoothly represent the shape of the distribution.\n",
        "    sns.histplot(data=train,x=feature,ax=axes[i],kde=True,color='steelblue')\n",
        "    axes[i].set_title(f\"Histogram of {feature}\",fontweight=\"bold\",fontsize=14)\n",
        "  else:\n",
        "    sns.kdeplot(data=train,x=feature,ax=axes[i],fill=True,color='seagreen')\n",
        "    axes[i].set_title(f\"Distribution of {feature}\",fontweight=\"bold\",fontsize=14)\n",
        "  axes[i].set_xlabel(feature,fontsize=12,fontweight=\"bold\")\n",
        "  axes[i].set_ylabel(\"Frequency\",fontsize=12,fontweight=\"bold\")\n",
        "plt.suptitle(\"Distribution of Numerical Features\",fontsize=20,fontweight=\"bold\")\n",
        "plt.tight_layout()\n",
        "plt.show()"
      ],
      "metadata": {
        "id": "69n7NA3LgB3s",
        "trusted": true,
        "execution": {
          "iopub.status.busy": "2025-10-17T23:31:47.659279Z",
          "iopub.execute_input": "2025-10-17T23:31:47.659613Z",
          "iopub.status.idle": "2025-10-17T23:31:57.326014Z",
          "shell.execute_reply.started": "2025-10-17T23:31:47.659581Z",
          "shell.execute_reply": "2025-10-17T23:31:57.324715Z"
        }
      },
      "outputs": [],
      "execution_count": null
    },
    {
      "cell_type": "markdown",
      "source": [
        "<h4 style=\"color:orange;font-weight:bold;\">In the three graphs other than num_reported_accident, we can see that the values are equally distributed. However, in num_reported_accident, we can see that the values follow the order 1 > 2 > 3 > 4.</h4>"
      ],
      "metadata": {
        "id": "qc9Tzn9tr1Xr"
      }
    },
    {
      "cell_type": "markdown",
      "source": [
        "### <font color=\"blue\"> 2. Categorical_feature</font>"
      ],
      "metadata": {
        "id": "Yz7YOfTopPay"
      }
    },
    {
      "cell_type": "code",
      "source": [
        "fig, axes=plt.subplots(2,4,figsize=(18,10))\n",
        "axes=axes.flatten()\n",
        "\n",
        "for i,feature in enumerate(categorical_features):\n",
        "  sns.countplot(data=train,x=feature,ax=axes[i],palette='viridis')\n",
        "  axes[i].set_title(f\"Countplot of {feature}\",fontweight=\"bold\",fontsize=13)\n",
        "  axes[i].set_xlabel(feature,fontsize=12,fontweight=\"bold\")\n",
        "  axes[i].set_ylabel(\"Count\",fontsize=12,fontweight=\"bold\")\n",
        "  axes[i].tick_params(axis='x',rotation=30)\n",
        "plt.suptitle(\"Distribution of Categorical Features\",fontsize=20,fontweight=\"bold\")\n",
        "plt.tight_layout()\n",
        "plt.show()"
      ],
      "metadata": {
        "id": "NE2cS6AHpHcv",
        "trusted": true,
        "execution": {
          "iopub.status.busy": "2025-10-17T23:31:57.327073Z",
          "iopub.execute_input": "2025-10-17T23:31:57.327395Z",
          "iopub.status.idle": "2025-10-17T23:32:00.20331Z",
          "shell.execute_reply.started": "2025-10-17T23:31:57.32737Z",
          "shell.execute_reply": "2025-10-17T23:32:00.20201Z"
        }
      },
      "outputs": [],
      "execution_count": null
    },
    {
      "cell_type": "markdown",
      "source": [
        "<h4 style=\"color:orange;font-weight:bold;\">From these graphs, it can be seen that the quantities for each category are nearly equal.</h4>"
      ],
      "metadata": {
        "id": "OoBJs3SmsYaR"
      }
    },
    {
      "cell_type": "markdown",
      "source": [
        "## <font color=\"green\"> 2. Target Analysis</font>"
      ],
      "metadata": {
        "id": "bjuHoQB9qRkz"
      }
    },
    {
      "cell_type": "code",
      "source": [
        "fig,axes=plt.subplot_mosaic([['A','B'],['C','C']],figsize=(14,10))\n",
        "sns.boxplot(y=target,data=train,ax=axes['A'],color='goldenrod')\n",
        "axes['A'].set_title(f\"Boxplot of {target}\",fontweight=\"bold\",fontsize=14)\n",
        "sns.violinplot(y=target,data=train,ax=axes['B'],color='lightgreen')\n",
        "axes['B'].set_title(f\"Violinplot of {target}\",fontweight=\"bold\",fontsize=14)\n",
        "sns.histplot(train[target],kde=True,ax=axes['C'],color='royalblue')\n",
        "axes['C'].set_title(f\"Histogram of {target}\",fontweight=\"bold\",fontsize=14)\n",
        "axes['C'].set_xlabel(target,fontsize=12,fontweight=\"bold\")\n",
        "plt.suptitle(f\"Distribution of {target}\",fontsize=20,fontweight=\"bold\")\n",
        "plt.tight_layout()\n",
        "plt.show()"
      ],
      "metadata": {
        "id": "GmT3D8r0qQlL",
        "trusted": true,
        "execution": {
          "iopub.status.busy": "2025-10-17T23:32:00.204503Z",
          "iopub.execute_input": "2025-10-17T23:32:00.204881Z",
          "iopub.status.idle": "2025-10-17T23:32:04.575376Z",
          "shell.execute_reply.started": "2025-10-17T23:32:00.204854Z",
          "shell.execute_reply": "2025-10-17T23:32:04.574239Z"
        }
      },
      "outputs": [],
      "execution_count": null
    },
    {
      "cell_type": "markdown",
      "source": [
        "<h4 style=\"color:orange;font-weight:bold;\">From this, we can see that the target variable accident_risk exhibits a right-skewed distribution.</h4>"
      ],
      "metadata": {
        "id": "iXpqBYGCstkG"
      }
    },
    {
      "cell_type": "markdown",
      "source": [
        "## <font color=\"green\"> 3. Bivariate Analysis</font>"
      ],
      "metadata": {
        "id": "-3GDfkSgsvEQ"
      }
    },
    {
      "cell_type": "code",
      "source": [
        "corr=train[numerical_features+[target]].corr()\n",
        "#This is used to specify “what to display and what to hide” when drawing the heatmap later.\n",
        "mask=np.triu(np.ones_like(corr,dtype=bool))\n",
        "\n",
        "plt.figure(figsize=(10,8))\n",
        "#The top half that is set to True by the mask is hidden.\n",
        "sns.heatmap(corr,mask=mask,annot=True,fmt=\".2f\",cmap=\"coolwarm\",linewidths=0.5)\n",
        "plt.title(\"Correlation Heatmap\",fontweight=\"bold\",fontsize=16)\n",
        "plt.show()"
      ],
      "metadata": {
        "id": "Pyj-gBiMsuQ7",
        "trusted": true,
        "execution": {
          "iopub.status.busy": "2025-10-17T23:32:04.576718Z",
          "iopub.execute_input": "2025-10-17T23:32:04.577028Z",
          "iopub.status.idle": "2025-10-17T23:32:04.982176Z",
          "shell.execute_reply.started": "2025-10-17T23:32:04.576994Z",
          "shell.execute_reply": "2025-10-17T23:32:04.981077Z"
        }
      },
      "outputs": [],
      "execution_count": null
    },
    {
      "cell_type": "markdown",
      "source": [
        "<h4 style=\"color:orange;font-weight:bold;\">From this, we can see that the correlation between curvature, speed_limit and accident_risk is relatively high.</h4>"
      ],
      "metadata": {
        "id": "T9C6JvftvPQ3"
      }
    },
    {
      "cell_type": "code",
      "source": [
        "top_corr_features=corr[target].abs().sort_values(ascending=False)[1:5].index.tolist()\n",
        "sns.pairplot(train,vars=top_corr_features+[target],kind='scatter',corner=True)\n",
        "plt.suptitle(\"Pairwise Scatter Plots of Top Features vs Target\",fontsize=20,fontweight=\"bold\")\n",
        "plt.show()"
      ],
      "metadata": {
        "id": "7H-JD7vbuYQz",
        "trusted": true,
        "execution": {
          "iopub.status.busy": "2025-10-17T23:32:04.983598Z",
          "iopub.execute_input": "2025-10-17T23:32:04.984295Z",
          "iopub.status.idle": "2025-10-17T23:32:21.753579Z",
          "shell.execute_reply.started": "2025-10-17T23:32:04.98426Z",
          "shell.execute_reply": "2025-10-17T23:32:21.75247Z"
        }
      },
      "outputs": [],
      "execution_count": null
    },
    {
      "cell_type": "markdown",
      "source": [
        "<h4 style=\"color:orange;font-weight:bold;\">These graphs do not visually show much correlation between the two features.</h4>"
      ],
      "metadata": {
        "id": "L2TXrtuXwGK3"
      }
    },
    {
      "cell_type": "markdown",
      "source": [
        "<h4 style=\"color:orange;font-weight:bold;\">We consider that accident risk varies depending on road type and lighting.</h4>"
      ],
      "metadata": {
        "id": "0uH1676q1FQL"
      }
    },
    {
      "cell_type": "code",
      "source": [
        "plt.figure(figsize=(12,6))\n",
        "sns.barplot(x='road_type',y=target,data=train,hue='lighting',ci=None,palette='viridis')\n",
        "plt.title(\"Average Accident Risk by Road Type and Lighting\",fontweight=\"bold\",fontsize=16)\n",
        "plt.xlabel(\"Road Type\",fontsize=12,fontweight=\"bold\")\n",
        "plt.ylabel(\"Average Accident Risk\",fontsize=12,fontweight=\"bold\")\n",
        "plt.xticks(rotation=30)\n",
        "plt.legend(title=\"Lighting\")\n",
        "plt.show()"
      ],
      "metadata": {
        "id": "g7O6lpNzwF4u",
        "trusted": true,
        "execution": {
          "iopub.status.busy": "2025-10-17T23:32:21.754823Z",
          "iopub.execute_input": "2025-10-17T23:32:21.755159Z",
          "iopub.status.idle": "2025-10-17T23:32:22.511623Z",
          "shell.execute_reply.started": "2025-10-17T23:32:21.755134Z",
          "shell.execute_reply": "2025-10-17T23:32:22.510468Z"
        }
      },
      "outputs": [],
      "execution_count": null
    },
    {
      "cell_type": "markdown",
      "source": [
        "<h4 style=\"color:orange;font-weight:bold;\">We believe that accident risk changes depending on holidays and school seasons.</h4>"
      ],
      "metadata": {
        "id": "eClorqLZ1XZW"
      }
    },
    {
      "cell_type": "code",
      "source": [
        "plt.figure(figsize=(12, 4))\n",
        "sns.barplot(x='holiday', y=target, hue='school_season', data=train, ci=None, palette='magma')\n",
        "plt.title(\"Effect of Holidays and School Season on Accident Risk\", fontsize=16, fontweight='bold')\n",
        "plt.xlabel(\"Holiday (1 = Yes, 0 = No)\", fontsize=12, fontweight='bold')\n",
        "plt.ylabel(\"Average Accident Risk\", fontsize=12, fontweight='bold')\n",
        "plt.legend(title=\"School Season\")\n",
        "plt.show()"
      ],
      "metadata": {
        "id": "4iPG1jKixM9T",
        "trusted": true,
        "execution": {
          "iopub.status.busy": "2025-10-17T23:32:22.51275Z",
          "iopub.execute_input": "2025-10-17T23:32:22.513089Z",
          "iopub.status.idle": "2025-10-17T23:32:22.829834Z",
          "shell.execute_reply.started": "2025-10-17T23:32:22.513063Z",
          "shell.execute_reply": "2025-10-17T23:32:22.828612Z"
        }
      },
      "outputs": [],
      "execution_count": null
    },
    {
      "cell_type": "markdown",
      "source": [
        "<h4 style=\"color:orange;font-weight:bold;\">We consider that accident risk changes depending on lighting and weather.</h4>"
      ],
      "metadata": {
        "id": "UGsWceqp1fg_"
      }
    },
    {
      "cell_type": "code",
      "source": [
        "plt.figure(figsize=(12, 4))\n",
        "sns.barplot(x='weather', y=target, hue='lighting', data=train, ci=None, palette='viridis')\n",
        "plt.title(\"Effect of Weather Conditions on Accident Risk\", fontsize=16, fontweight='bold')\n",
        "plt.xlabel(\"Weather Condition\", fontsize=12, fontweight='bold')\n",
        "plt.ylabel(\"Average Accident Risk\", fontsize=12, fontweight='bold')\n",
        "plt.legend(title=\"Lighting\")\n",
        "plt.show()"
      ],
      "metadata": {
        "id": "LebbyUnpy-4B",
        "trusted": true,
        "execution": {
          "iopub.status.busy": "2025-10-17T23:32:22.831056Z",
          "iopub.execute_input": "2025-10-17T23:32:22.831436Z",
          "iopub.status.idle": "2025-10-17T23:32:23.56121Z",
          "shell.execute_reply.started": "2025-10-17T23:32:22.831406Z",
          "shell.execute_reply": "2025-10-17T23:32:23.560096Z"
        }
      },
      "outputs": [],
      "execution_count": null
    },
    {
      "cell_type": "markdown",
      "source": [
        "<h4 style=\"color:orange;font-weight:bold;\">We consider that accident risk varies depending on lighting, weather, and time of day.</h4>"
      ],
      "metadata": {
        "id": "NvTLQNBf1lS3"
      }
    },
    {
      "cell_type": "code",
      "source": [
        "plt.figure(figsize=(16, 5))\n",
        "sns.catplot(x='weather',y=target,hue='lighting',col='time_of_day',data=train,kind='bar',ci=None,palette='plasma')\n",
        "plt.suptitle(\"Risk by Weather, Lighting, under different Time_of_Day Conitions\",fontsize=20,fontweight=\"bold\")\n",
        "plt.tight_layout()\n",
        "plt.show()"
      ],
      "metadata": {
        "id": "p1l7bdS0zdY-",
        "trusted": true,
        "execution": {
          "iopub.status.busy": "2025-10-17T23:32:23.562467Z",
          "iopub.execute_input": "2025-10-17T23:32:23.562853Z",
          "iopub.status.idle": "2025-10-17T23:32:25.741727Z",
          "shell.execute_reply.started": "2025-10-17T23:32:23.56283Z",
          "shell.execute_reply": "2025-10-17T23:32:25.739988Z"
        }
      },
      "outputs": [],
      "execution_count": null
    },
    {
      "cell_type": "markdown",
      "source": [
        "<h4 style=\"color:orange;font-weight:bold;\">This graph shows that risk increases during rainy and foggy conditions. Focusing on lightning, risk rises significantly at night compared to the other two conditions.</h4>"
      ],
      "metadata": {
        "id": "SftyrIJZH6L1"
      }
    },
    {
      "cell_type": "code",
      "source": [
        "plt.figure(figsize=(16, 5))\n",
        "sns.catplot(x='lighting',y=target,hue='num_lanes',col='weather',data=train,kind='bar',ci=None,palette='magma')\n",
        "plt.suptitle(\"Risk by Lighting, Number of Reported Accidents, under different Weather Conditions\",fontsize=20,fontweight=\"bold\")\n",
        "plt.tight_layout()\n",
        "plt.show()"
      ],
      "metadata": {
        "id": "prGE_RutoyhQ",
        "trusted": true,
        "execution": {
          "iopub.status.busy": "2025-10-17T23:32:25.742886Z",
          "iopub.execute_input": "2025-10-17T23:32:25.743248Z",
          "iopub.status.idle": "2025-10-17T23:32:27.8445Z",
          "shell.execute_reply.started": "2025-10-17T23:32:25.743188Z",
          "shell.execute_reply": "2025-10-17T23:32:27.843245Z"
        }
      },
      "outputs": [],
      "execution_count": null
    },
    {
      "cell_type": "markdown",
      "source": [
        "<h4 style=\"color:orange;font-weight:bold;\">Similarly, this graph shows that risk increases dramatically at night, while the difference in lane count is not as significant.</h4>"
      ],
      "metadata": {
        "id": "kQ3KYWSOIOcK"
      }
    },
    {
      "cell_type": "code",
      "source": [
        "plt.figure(figsize=(16, 5))\n",
        "sns.catplot(x='num_lanes',y=target,hue='time_of_day',data=train,kind='bar',ci=None,palette='magma')\n",
        "plt.suptitle(\"Risk by Number of Lanes, under different Time_of_Day Conitions\",fontsize=20,fontweight=\"bold\")\n",
        "plt.tight_layout()\n",
        "plt.show()"
      ],
      "metadata": {
        "id": "vIswFMIcsa5O",
        "trusted": true,
        "execution": {
          "iopub.status.busy": "2025-10-17T23:32:27.845902Z",
          "iopub.execute_input": "2025-10-17T23:32:27.847029Z",
          "iopub.status.idle": "2025-10-17T23:32:28.924877Z",
          "shell.execute_reply.started": "2025-10-17T23:32:27.846987Z",
          "shell.execute_reply": "2025-10-17T23:32:28.923835Z"
        }
      },
      "outputs": [],
      "execution_count": null
    },
    {
      "cell_type": "markdown",
      "source": [
        "<h4 style=\"color:orange;font-weight:bold;\">From this graph and the previous one, we see that the risk increases significantly under nighttime lighting. However, when categorized by evening, morning, and afternoon, the risk only rises slightly during evening.</h4>"
      ],
      "metadata": {
        "id": "v2iv2cAuIbwZ"
      }
    },
    {
      "cell_type": "code",
      "source": [
        "plt.figure(figsize=(16, 5))\n",
        "sns.catplot(x='road_signs_present',y=target,hue='num_reported_accidents',data=train,kind='bar',ci=None,palette='magma')\n",
        "plt.suptitle(\"Risk by Road Signs, under different Speed Limits\",fontsize=20,fontweight=\"bold\")\n",
        "plt.tight_layout()\n",
        "plt.show()"
      ],
      "metadata": {
        "id": "CaD4NZfYstL9",
        "trusted": true,
        "execution": {
          "iopub.status.busy": "2025-10-17T23:32:28.925959Z",
          "iopub.execute_input": "2025-10-17T23:32:28.926338Z",
          "iopub.status.idle": "2025-10-17T23:32:29.807941Z",
          "shell.execute_reply.started": "2025-10-17T23:32:28.926311Z",
          "shell.execute_reply": "2025-10-17T23:32:29.806788Z"
        }
      },
      "outputs": [],
      "execution_count": null
    },
    {
      "cell_type": "markdown",
      "source": [
        "<h4 style=\"color:orange;font-weight:bold;\">This graph shows that the risk increases sharply when the number of reported accidents reaches 3 or more. This simply indicates that locations where accidents are likely to occur become accident-prone areas. On the other hand, focusing on the presence of road signs reveals that locations marked as True have a higher risk when the number of reported accidents is between 4 and 6.</h4>"
      ],
      "metadata": {
        "id": "bo8rlRMuJfJ6"
      }
    },
    {
      "cell_type": "code",
      "source": [
        "plt.figure(figsize=(10, 6))\n",
        "sns.barplot(x='speed_limit', y=target, data=train, ci=None, palette='coolwarm')\n",
        "plt.title(\"Average Accident Risk by Speed Limit\", fontsize=16, fontweight='bold')\n",
        "plt.xlabel(\"Speed Limit (km/h)\", fontsize=12, fontweight='bold')\n",
        "plt.ylabel(\"Average Accident Risk\", fontsize=12, fontweight='bold')\n",
        "plt.show()"
      ],
      "metadata": {
        "id": "JvM2Ik2PxQup",
        "trusted": true,
        "execution": {
          "iopub.status.busy": "2025-10-17T23:32:29.809061Z",
          "iopub.execute_input": "2025-10-17T23:32:29.80937Z",
          "iopub.status.idle": "2025-10-17T23:32:30.066821Z",
          "shell.execute_reply.started": "2025-10-17T23:32:29.809348Z",
          "shell.execute_reply": "2025-10-17T23:32:30.065852Z"
        }
      },
      "outputs": [],
      "execution_count": null
    },
    {
      "cell_type": "markdown",
      "source": [
        "<h4 style=\"color:orange;font-weight:bold;\">This graph shows that risk suddenly spikes when the speed limit exceeds 60 km/h.</h4>"
      ],
      "metadata": {
        "id": "G0_JRKAoJo9e"
      }
    },
    {
      "cell_type": "code",
      "source": [
        "sns.relplot(x='curvature',y=target,col='speed_limit',data=train,kind='scatter',palette='viridis')\n",
        "plt.suptitle(\"Risk by Curvature and Speed Limit\",fontsize=20,fontweight=\"bold\")\n",
        "plt.tight_layout()\n",
        "plt.show()"
      ],
      "metadata": {
        "id": "-B28nZqX1uRC",
        "trusted": true,
        "execution": {
          "iopub.status.busy": "2025-10-17T23:32:30.071116Z",
          "iopub.execute_input": "2025-10-17T23:32:30.072332Z",
          "iopub.status.idle": "2025-10-17T23:32:33.68614Z",
          "shell.execute_reply.started": "2025-10-17T23:32:30.072301Z",
          "shell.execute_reply": "2025-10-17T23:32:33.684792Z"
        }
      },
      "outputs": [],
      "execution_count": null
    },
    {
      "cell_type": "code",
      "source": [
        "train['curvature_group']=pd.cut(train['curvature'],bins=3,labels=['Straight','Gentle Curve','Sharp Curve'])\n",
        "sns.catplot(x='speed_limit',y=target,hue='curvature_group',col='speed_limit',data=train,kind='bar',ci=None,palette='magma')\n",
        "plt.suptitle(\"Risk by Speed Limit and Curvature\",fontsize=20,fontweight=\"bold\")\n",
        "plt.tight_layout()\n",
        "plt.show()"
      ],
      "metadata": {
        "id": "994IXNMM3ONT",
        "trusted": true,
        "execution": {
          "iopub.status.busy": "2025-10-17T23:32:33.687235Z",
          "iopub.execute_input": "2025-10-17T23:32:33.687624Z",
          "iopub.status.idle": "2025-10-17T23:32:36.003414Z",
          "shell.execute_reply.started": "2025-10-17T23:32:33.68759Z",
          "shell.execute_reply": "2025-10-17T23:32:36.002347Z"
        }
      },
      "outputs": [],
      "execution_count": null
    },
    {
      "cell_type": "markdown",
      "source": [
        "<h4 style=\"color:orange;font-weight:bold;\">As the speed limit increases, risk increases. Looking at curvature, we see that risk increases as sharpness increases at any given speed.</h4>"
      ],
      "metadata": {
        "id": "2nN1YMj-JseZ"
      }
    },
    {
      "cell_type": "code",
      "source": [
        "plt.figure(figsize=(10, 6))\n",
        "sns.barplot(x='weather', y=target, hue='curvature_group',data=train, ci=None, palette='viridis')\n",
        "plt.title(\"Average Accident Risk by Weather and Curvature\", fontsize=16, fontweight='bold')\n",
        "plt.xlabel(\"Weather Condition\", fontsize=12, fontweight='bold')\n",
        "plt.ylabel(\"Average Accident Risk\", fontsize=12, fontweight='bold')\n",
        "plt.show()"
      ],
      "metadata": {
        "id": "3ifBXzXctzoV",
        "trusted": true,
        "execution": {
          "iopub.status.busy": "2025-10-17T23:32:36.004775Z",
          "iopub.execute_input": "2025-10-17T23:32:36.005122Z",
          "iopub.status.idle": "2025-10-17T23:32:36.524911Z",
          "shell.execute_reply.started": "2025-10-17T23:32:36.005087Z",
          "shell.execute_reply": "2025-10-17T23:32:36.52376Z"
        }
      },
      "outputs": [],
      "execution_count": null
    },
    {
      "cell_type": "markdown",
      "source": [
        "<h4 style=\"color:orange;font-weight:bold;\">Similarly, rainy and foggy conditions pose significant risks, and within those, sharp curves present an even greater risk.</h4>"
      ],
      "metadata": {
        "id": "VG31EWPU4DW2"
      }
    },
    {
      "cell_type": "code",
      "source": [
        "plt.figure(figsize=(16, 12))\n",
        "\n",
        "for i, feature in enumerate(numerical_features):\n",
        "    plt.subplot(2, 2, i+1)\n",
        "    sns.regplot(x=feature, y='accident_risk', data=train, scatter_kws={'alpha':0.3}, line_kws={'color':'red'})\n",
        "    plt.title(f\"Regression Plot: {feature} vs Accident Risk\", fontsize=14, fontweight='bold')\n",
        "    plt.xlabel(feature, fontsize=12, fontweight='bold')\n",
        "    plt.ylabel(\"Accident Risk\", fontsize=12, fontweight='bold')\n",
        "\n",
        "plt.tight_layout()\n",
        "plt.show()"
      ],
      "metadata": {
        "id": "JAGckB4OxY-i",
        "trusted": true,
        "execution": {
          "iopub.status.busy": "2025-10-17T23:32:36.526066Z",
          "iopub.execute_input": "2025-10-17T23:32:36.526387Z",
          "iopub.status.idle": "2025-10-17T23:34:38.739008Z",
          "shell.execute_reply.started": "2025-10-17T23:32:36.526354Z",
          "shell.execute_reply": "2025-10-17T23:34:38.737935Z"
        }
      },
      "outputs": [],
      "execution_count": null
    },
    {
      "cell_type": "markdown",
      "source": [
        "# <font color=\"blue\"> 4. Cross-Validation</font>"
      ],
      "metadata": {
        "id": "-K7nxH5h0ASY"
      }
    },
    {
      "cell_type": "code",
      "source": [
        "#This is a function that performs cross-validation using the K-Fold method, enabling model training, evaluation, and prediction on test data all at once.\n",
        "def model_trainer(model, X, y, test=None, nsplits=5, random_state=42, log_target=False):\n",
        "\n",
        "  kfold = KFold(n_splits=nsplits, shuffle=True, random_state=random_state)\n",
        "  y_array = y.to_numpy() if isinstance(y, pd.Series) else y.copy()\n",
        "  test_array = test.to_numpy() if isinstance(test, pd.DataFrame) else test\n",
        "\n",
        "  if log_target:\n",
        "    y_array = np.log1p(y_array)\n",
        "\n",
        "  oof_train_preds = np.zeros(len(y_array))\n",
        "\n",
        "  if test_array is not None:\n",
        "    oof_test_preds = np.zeros(len(test_array))\n",
        "\n",
        "  oof_rmse = []\n",
        "  oof_r2 = []\n",
        "\n",
        "  for fold, (train_idx, val_idx) in enumerate(kfold.split(X), 1):\n",
        "    X_train, X_val = X.iloc[train_idx], X.iloc[val_idx]\n",
        "    y_train, y_val = y_array[train_idx], y_array[val_idx]\n",
        "\n",
        "    model.fit(X_train, y_train)\n",
        "    y_pred = model.predict(X_val)\n",
        "\n",
        "    y_val_orig = np.expm1(y_val) if log_target else y_val\n",
        "    y_pred_orig = np.expm1(y_pred) if log_target else y_pred\n",
        "\n",
        "    rmse = np.sqrt(mean_squared_error(y_val_orig, y_pred_orig))\n",
        "    r2 = r2_score(y_val_orig, y_pred_orig)\n",
        "\n",
        "    oof_rmse.append(rmse)\n",
        "    oof_r2.append(r2)\n",
        "    oof_train_preds[val_idx] = y_pred\n",
        "\n",
        "    if test is not None:\n",
        "      test_pred = model.predict(test)\n",
        "      test_pred_orig = np.expm1(test_pred) if log_target else test_pred\n",
        "      oof_test_preds += test_pred_orig / nsplits\n",
        "\n",
        "    print(f\"Fold {fold} → RMSE: {rmse:.4f}, R2: {r2:.4f}\")\n",
        "\n",
        "  print(f\"\\nAverage Fold RMSE Score: {np.mean(oof_rmse):.4f} ± {np.std(oof_rmse):.4f}\")\n",
        "  print(f\"\\nAverage Fold R2 Score: {np.mean(oof_r2):.4f} ± {np.std(oof_r2):.4f}\")\n",
        "\n",
        "  if test_array is not None:\n",
        "    oof_train_preds_orig = np.expm1(oof_train_preds) if log_target else oof_train_preds\n",
        "    return oof_train_preds_orig, oof_test_preds\n",
        "\n",
        "  oof_train_preds_orig = np.expm1(oof_train_preds) if log_target else oof_train_preds\n",
        "  return oof_train_preds_orig"
      ],
      "metadata": {
        "id": "PruHRaFi3O8J",
        "trusted": true,
        "execution": {
          "iopub.status.busy": "2025-10-17T23:34:38.740255Z",
          "iopub.execute_input": "2025-10-17T23:34:38.740577Z",
          "iopub.status.idle": "2025-10-17T23:34:38.752203Z",
          "shell.execute_reply.started": "2025-10-17T23:34:38.740553Z",
          "shell.execute_reply": "2025-10-17T23:34:38.751141Z"
        }
      },
      "outputs": [],
      "execution_count": null
    },
    {
      "cell_type": "markdown",
      "source": [
        "# <font color=\"blue\">5. Preprocessing, Feature Engineering, Model Training</font>"
      ],
      "metadata": {
        "id": "9h0PuJ8q0fev"
      }
    },
    {
      "cell_type": "code",
      "source": [
        "#This is a script that executes the entire workflow from machine learning preprocessing to feature engineering and model training.\n",
        "\n",
        "X=train.drop(target,axis=1)\n",
        "y=train[target]\n",
        "comb=pd.concat([X,test],axis=0)\n",
        "#To use the same mean and standard deviation for StandardScaler and the same category list for OneHotEncoder across both training and test data.\n",
        "\n",
        "time_mapping = {'morning': 0, 'afternoon': 1, 'evening': 2, 'night': 3}\n",
        "comb['time_of_day'] = comb['time_of_day'].map(time_mapping)\n",
        "cycle_length = 4\n",
        "comb['time_sin'] = np.sin(2 * np.pi * comb['time_of_day'] / cycle_length)\n",
        "comb['time_cos'] = np.cos(2 * np.pi * comb['time_of_day'] / cycle_length)\n",
        "comb = comb.drop(columns=['time_of_day'])\n",
        "\n",
        "numerical_features = comb.select_dtypes(include=np.number).columns.tolist()\n",
        "categorical_features = comb.select_dtypes(exclude=['number', 'datetime']).columns.tolist()\n",
        "\n",
        "numeric_transformer = Pipeline(steps=[\n",
        "    ('imputer', SimpleImputer(strategy='median')),\n",
        "    ('scaler', StandardScaler())\n",
        "])\n",
        "\n",
        "categorical_transformer = Pipeline(steps=[\n",
        "    ('imputer', SimpleImputer(strategy='most_frequent')),\n",
        "    ('onehot', OneHotEncoder(handle_unknown='ignore', drop='first', sparse_output=False))\n",
        "])\n",
        "\n",
        "preprocessor = ColumnTransformer(\n",
        "    transformers=[\n",
        "        ('num', numeric_transformer, numerical_features),\n",
        "        ('cat', categorical_transformer, categorical_features)\n",
        "    ],\n",
        "    remainder='passthrough'\n",
        ")\n",
        "\n",
        "comb_preprocessed_np = preprocessor.fit_transform(comb)\n",
        "\n",
        "#A function to remove prefixes like ‘num__’ or ‘cat__’ from column names\n",
        "def clean_col_names(names):\n",
        "    cleaned_names = []\n",
        "    for name in names:\n",
        "        if name.startswith('num__') or name.startswith('cat__'):\n",
        "            cleaned_names.append(name[5:])\n",
        "        else:\n",
        "            cleaned_names.append(name)\n",
        "    return cleaned_names\n",
        "\n",
        "feature_names = clean_col_names(preprocessor.get_feature_names_out())\n",
        "comb_preprocessed = pd.DataFrame(comb_preprocessed_np, index=comb.index, columns=feature_names)\n",
        "\n",
        "#Performed feature engineering from EDA. Conditions such as curvature, speed (especially above 60 km/h), night, rainy, and foggy significantly increased risk. The number of reported accidents also had a certain impact. Therefore, we set bad_weather and interaction features.\n",
        "def create_interaction_features(df):\n",
        "  df_copy=df.copy()\n",
        "  df_copy['curvature_speed_ratio']=df_copy['curvature']/(df_copy['speed_limit']+1)\n",
        "  df_copy['curvature_x_speed']=df_copy['curvature']*df_copy['speed_limit']\n",
        "  df_copy['high_curvature'] = (df_copy['curvature']>0.7).astype(int)\n",
        "  df_copy['high_speed'] = (df_copy['speed_limit']>=0.88).astype(float)\n",
        "  df_copy['foggy_x_night'] = df_copy['weather_foggy']*df_copy['lighting_night']\n",
        "  df_copy['rainy_x_night'] = df_copy['weather_rainy']*df_copy['lighting_night']\n",
        "  df_copy['curvature_x_lighting'] = df_copy['curvature']*df_copy['lighting_night']\n",
        "  df_copy['speed_x_lighting'] = df_copy['speed_limit']*df_copy['lighting_night']\n",
        "  df_copy['acc_prone'] = (df_copy['num_reported_accidents']>=0.9).astype(int)\n",
        "  df_copy['bad_weather'] = df_copy['weather_foggy']+df_copy['weather_rainy']\n",
        "  df_copy['badweather_x_curvature'] = df_copy['bad_weather']*df_copy['curvature']\n",
        "  df_copy['badweather_x_speed'] = df_copy['bad_weather']*df_copy['speed_limit']\n",
        "  df_copy['accprone_x_sign'] = df_copy['acc_prone']*(1-df_copy['road_signs_present_True'])\n",
        "  df_copy['curvature_squared'] = df_copy['curvature']**2\n",
        "  df_copy['speed_squared'] = df_copy['speed_limit']**2\n",
        "  df_copy['badweather_night_curvature'] = df_copy['bad_weather'] *df_copy['lighting_night'] * df_copy['curvature']\n",
        "  df_copy['accprone_badweather_speed'] = df_copy['acc_prone'] * df_copy['bad_weather'] * df_copy['speed_limit']\n",
        "  return df_copy\n",
        "\n",
        "comb_final=create_interaction_features(comb_preprocessed)\n",
        "\n",
        "X_final=comb_final.loc[X.index]\n",
        "test_final=comb_final.loc[test.index]"
      ],
      "metadata": {
        "id": "D2jVXi54jY4f",
        "trusted": true,
        "execution": {
          "iopub.status.busy": "2025-10-17T23:34:38.752965Z",
          "iopub.execute_input": "2025-10-17T23:34:38.753208Z",
          "iopub.status.idle": "2025-10-17T23:34:43.391258Z",
          "shell.execute_reply.started": "2025-10-17T23:34:38.75319Z",
          "shell.execute_reply": "2025-10-17T23:34:43.390116Z"
        }
      },
      "outputs": [],
      "execution_count": null
    },
    {
      "cell_type": "code",
      "source": [
        "lgbm = lgb.LGBMRegressor(random_state=42, verbosity=-1)\n",
        "xgbr = xgb.XGBRegressor(random_state=42, verbosity=0)\n",
        "catr = cb.CatBoostRegressor(random_state=42, verbose=0)"
      ],
      "metadata": {
        "id": "u4WfD2l4BRM2",
        "trusted": true,
        "execution": {
          "iopub.status.busy": "2025-10-17T23:34:43.392183Z",
          "iopub.execute_input": "2025-10-17T23:34:43.393283Z",
          "iopub.status.idle": "2025-10-17T23:34:43.399992Z",
          "shell.execute_reply.started": "2025-10-17T23:34:43.393244Z",
          "shell.execute_reply": "2025-10-17T23:34:43.398785Z"
        }
      },
      "outputs": [],
      "execution_count": null
    },
    {
      "cell_type": "code",
      "source": [
        "# LightGBM\n",
        "print('LightGBM')\n",
        "oof_lgbm, test_lgbm = model_trainer(lgbm, X_final, y, test_final, log_target=True)\n",
        "\n",
        "# XGBoost\n",
        "print('XGBoost')\n",
        "oof_xgb, test_xgb = model_trainer(xgbr, X_final, y, test_final, log_target=True)\n",
        "\n",
        "# CatBoost\n",
        "print('CatBoost')\n",
        "oof_cat, test_cat = model_trainer(catr, X_final, y, test_final, log_target=True)"
      ],
      "metadata": {
        "id": "-jJS5YpiBR3d",
        "trusted": true,
        "execution": {
          "iopub.status.busy": "2025-10-17T23:34:43.400943Z",
          "iopub.execute_input": "2025-10-17T23:34:43.401245Z",
          "iopub.status.idle": "2025-10-17T23:38:34.286003Z",
          "shell.execute_reply.started": "2025-10-17T23:34:43.401196Z",
          "shell.execute_reply": "2025-10-17T23:38:34.284694Z"
        }
      },
      "outputs": [],
      "execution_count": null
    },
    {
      "cell_type": "code",
      "source": [
        "#Non-stackable items,Ensemble Learning (Blending)\n",
        "simple_avg_preds = (test_lgbm + test_xgb + test_cat) / 3\n",
        "\n",
        "sub = pd.read_csv('/kaggle/input/playground-series-s5e10/sample_submission.csv')\n",
        "sub[target]=simple_avg_preds\n",
        "sub.to_csv(\"submission1.csv\",index=False)\n",
        "print(sub.head())"
      ],
      "metadata": {
        "id": "OX0AAxH2a4EP",
        "trusted": true,
        "execution": {
          "iopub.status.busy": "2025-10-17T23:38:34.287151Z",
          "iopub.execute_input": "2025-10-17T23:38:34.287764Z",
          "iopub.status.idle": "2025-10-17T23:38:34.757848Z",
          "shell.execute_reply.started": "2025-10-17T23:38:34.287732Z",
          "shell.execute_reply": "2025-10-17T23:38:34.756589Z"
        }
      },
      "outputs": [],
      "execution_count": null
    },
    {
      "cell_type": "markdown",
      "source": [
        "# <font color=\"blue\">6. Stacking</font>"
      ],
      "metadata": {
        "id": "qVbkU2Rj02ku"
      }
    },
    {
      "cell_type": "code",
      "source": [
        "X_stack_train = pd.DataFrame({\n",
        "    'lgbm_pred': oof_lgbm,\n",
        "    'xgb_pred': oof_xgb,\n",
        "    'cat_pred': oof_cat\n",
        "})\n",
        "#By using predicted values for data the model has “never seen before,” the meta-model prevents overfitting.\n",
        "y_stack_train = y\n",
        "\n",
        "X_stack_test = pd.DataFrame({\n",
        "    'lgbm_pred': test_lgbm,\n",
        "    'xgb_pred': test_xgb,\n",
        "    'cat_pred': test_cat\n",
        "})\n",
        "\n",
        "meta_model = LinearRegression()\n",
        "\n",
        "meta_model.fit(X_stack_train, y_stack_train)\n",
        "stacking_preds_final = meta_model.predict(X_stack_test)\n",
        "\n",
        "print(\"Finish Stacking\")\n",
        "\n",
        "#Preparing for submission\n",
        "sub = pd.read_csv(\"/kaggle/input/playground-series-s5e10/sample_submission.csv\")\n",
        "sub[target]=stacking_preds_final\n",
        "sub.to_csv(\"submission_stacking.csv\",index=False)\n",
        "print(sub.head())"
      ],
      "metadata": {
        "id": "FQur0ezCExxu",
        "trusted": true,
        "execution": {
          "iopub.status.busy": "2025-10-17T23:38:34.759053Z",
          "iopub.execute_input": "2025-10-17T23:38:34.759396Z",
          "iopub.status.idle": "2025-10-17T23:38:35.295626Z",
          "shell.execute_reply.started": "2025-10-17T23:38:34.759372Z",
          "shell.execute_reply": "2025-10-17T23:38:35.294616Z"
        }
      },
      "outputs": [],
      "execution_count": null
    },
    {
      "cell_type": "markdown",
      "source": [
        "<h3 style=\"color:red;font-weight:bold;\">Q. Why use LinerRegression?</h3>\n",
        "<h3 style=\"color:blue;font-weight:bold;\">\n",
        "A. Because it is the simplest and most effective way to optimally “weight” and blend the predictions from each model.\n",
        "\n",
        "*Final_Pred = w1 * LBGM_pred + w2 * XGB_pred + w3 * CAT_pred +intercept*\n",
        "\n",
        "\n",
        "Furthermore, using more sophisticated models carries the risk of overfitting, while simpler models often exhibit superior generalization performance.</h3>"
      ],
      "metadata": {
        "id": "FKSaoBjj2Lpw"
      }
    },
    {
      "cell_type": "markdown",
      "source": [
        "# <font color=\"blue\"> 7. Importance Measurement</font>"
      ],
      "metadata": {
        "id": "6JNeoWjLt-vB"
      }
    },
    {
      "cell_type": "code",
      "source": [
        "models = {\n",
        "    'LightGBM': lgbm,\n",
        "    'XGBoost': xgbr,\n",
        "    'CatBoost': catr\n",
        "}\n",
        "fig, axes = plt.subplots(nrows=3, ncols=1, figsize=(10, 20))\n",
        "for i, (model_name, model) in enumerate(models.items()):\n",
        "\n",
        "    feature_importances = pd.DataFrame({\n",
        "        'feature': X_final.columns,\n",
        "        'importance': model.feature_importances_\n",
        "    }).sort_values('importance', ascending=False)\n",
        "    ax = axes[i]\n",
        "\n",
        "    sns.barplot(\n",
        "        x='importance',\n",
        "        y='feature',\n",
        "        data=feature_importances.head(20),\n",
        "        palette='viridis',\n",
        "        ax=ax\n",
        "    )\n",
        "\n",
        "    ax.set_title(f\"{model_name} Feature Importance\", fontsize=16)\n",
        "    ax.set_xlabel('Importance')\n",
        "    ax.set_ylabel('Feature')\n",
        "plt.tight_layout()\n",
        "plt.show()"
      ],
      "metadata": {
        "id": "jsqH9Y0Ldfmv",
        "trusted": true,
        "execution": {
          "iopub.status.busy": "2025-10-17T23:38:35.29679Z",
          "iopub.execute_input": "2025-10-17T23:38:35.297103Z",
          "iopub.status.idle": "2025-10-17T23:38:36.661944Z",
          "shell.execute_reply.started": "2025-10-17T23:38:35.297079Z",
          "shell.execute_reply": "2025-10-17T23:38:36.660893Z"
        }
      },
      "outputs": [],
      "execution_count": null
    },
    {
      "cell_type": "markdown",
      "source": [
        "<h3 style=\"color:red;font-weight:bold;\">Q. Why use Permutation Importance?</h3>\n",
        "<h3 style=\"color:blue;font-weight:bold;\">\n",
        "A. Permutation Importance is **a metric that directly measures how much the prediction accuracy** for unknown data would decrease if a particular feature were removed after model training.\n",
        "\n",
        "Generally, Permutation Importance is considered **more reliable for assessing** whether a feature truly contributes to predictions.</h3>"
      ],
      "metadata": {
        "id": "FQCoP7bY6-QP"
      }
    },
    {
      "cell_type": "code",
      "source": [
        "X_train, X_val, y_train, y_val = train_test_split(\n",
        "    X_final, y, test_size=0.2, random_state=42\n",
        ")\n",
        "\n",
        "models = {\n",
        "    'LightGBM': lgbm,\n",
        "    'XGBoost': xgbr,\n",
        "    'CatBoost': catr\n",
        "}\n",
        "\n",
        "y_val_log = np.log1p(y_val)\n",
        "y_train_log = np.log1p(y_train)\n",
        "fig, axes = plt.subplots(nrows=3, ncols=1, figsize=(10, 20))\n",
        "\n",
        "low_importance_features = {}\n",
        "\n",
        "for i, (model_name, model) in enumerate(models.items()):\n",
        "\n",
        "    print(f\"Begin training {model_name} and calculating Permutation Importance.\")\n",
        "    if model_name == 'CatBoost':\n",
        "        model.fit(X_train, y_train_log, verbose=0)\n",
        "    elif model_name == 'XGBoost':\n",
        "        model.fit(X_train, y_train_log, verbose=0)\n",
        "    else:\n",
        "        model.fit(X_train, y_train_log)\n",
        "\n",
        "    result = permutation_importance(\n",
        "        model,\n",
        "        X_val,\n",
        "        y_val_log,\n",
        "        n_repeats=10,\n",
        "        random_state=42,\n",
        "        scoring='neg_root_mean_squared_error',\n",
        "        n_jobs=-1\n",
        "    )\n",
        "\n",
        "    perm_importance = pd.DataFrame({\n",
        "        'feature': X_val.columns,\n",
        "        'importance_mean': result.importances_mean\n",
        "    }).sort_values('importance_mean', ascending=False)\n",
        "\n",
        "    ax = axes[i]\n",
        "\n",
        "    sns.barplot(\n",
        "        x='importance_mean',\n",
        "        y='feature',\n",
        "        data=perm_importance.head(20),\n",
        "        palette='viridis',\n",
        "        ax=ax\n",
        "    )\n",
        "\n",
        "    ax.set_title(f\"{model_name} Permutation Importance (Top 20)\", fontsize=16)\n",
        "    ax.set_xlabel('Importance (Mean Score Decrease)')\n",
        "    ax.set_ylabel('Feature')\n",
        "\n",
        "    low_importance_features[model_name] = perm_importance[perm_importance['importance_mean'] <= 0]\n",
        "\n",
        "    print(f\"Processing of {model_name} completed.\")\n",
        "\n",
        "plt.tight_layout()\n",
        "\n",
        "plt.show()\n",
        "\n",
        "print(\"\\n--- Features with importance below 0 in each model ---\")\n",
        "for model_name, features_df in low_importance_features.items():\n",
        "    print(f\"\\n[{model_name}]\")\n",
        "    if features_df.empty:\n",
        "        print(\"There were no features with a weight of 0 or less.\")\n",
        "    else:\n",
        "        print(features_df)"
      ],
      "metadata": {
        "id": "WZfwp8RNgpRF",
        "trusted": true,
        "execution": {
          "iopub.status.busy": "2025-10-17T23:38:36.663033Z",
          "iopub.execute_input": "2025-10-17T23:38:36.663326Z",
          "iopub.status.idle": "2025-10-17T23:42:35.142886Z",
          "shell.execute_reply.started": "2025-10-17T23:38:36.663305Z",
          "shell.execute_reply": "2025-10-17T23:42:35.141712Z"
        }
      },
      "outputs": [],
      "execution_count": null
    }
  ]
}